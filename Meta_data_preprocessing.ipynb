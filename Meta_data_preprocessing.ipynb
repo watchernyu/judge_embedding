{
 "cells": [
  {
   "cell_type": "markdown",
   "metadata": {},
   "source": [
    "The purpose of this script is to create 2 dataframes: 'sentence_topic_judgeid.csv' and 'judge_decision.csv'\n",
    "1. **sentence_topic_judgeid**: full opinion text, author judge's full name and id, with the topic and geniss code of each case. \n",
    "2. **judge_decision**: judge level decision (binary: affirm(1), reverse(0)) of each judge toward each case."
   ]
  },
  {
   "cell_type": "markdown",
   "metadata": {},
   "source": [
    "## Data Description\n",
    "1. $266568$ circuit opinion writings. \n",
    "2. $2099$ judges\n",
    "3. $89$ unique topics in the dataset."
   ]
  },
  {
   "cell_type": "code",
   "execution_count": 2,
   "metadata": {},
   "outputs": [],
   "source": [
    "import pandas as pd\n",
    "import numpy as np\n",
    "import pickle as pk\n",
    "import zipfile\n",
    "import json\n",
    "import string\n",
    "import os\n"
   ]
  },
  {
   "cell_type": "code",
   "execution_count": 3,
   "metadata": {},
   "outputs": [],
   "source": [
    "#original dataset\n",
    "sentence_path = '/data/Dropbox/judge_embedding_data_sp18/sentences_data.csv'\n",
    "ruling_path = '/data/Dropbox/Projects/originalism/data/BloombergVOTELEVEL_Touse.dta'\n",
    "district_path = '/data/Dropbox/Projects/Ash_Chen/lexis-data/6411.zip'\n",
    "topic_path = '/data/Dropbox/Projects/Ash_Chen/metadata/bb2topic.pkl'\n",
    "meta_path = '/data/Dropbox/judge_embedding_data_sp18/circuit_metadata_excerpt.dta'\n",
    "bloomberg_lexis_path = '/data/Dropbox/judge_embedding_data_sp18/caseid_citation.dta'\n",
    "\n",
    "#output directory\n",
    "data_output_path = '/data/Dropbox/judge_embedding_data_sp18/'\n",
    "\n",
    "#preprocessed dataset\n",
    "sentence_topic_judge_path = data_output_path+ 'sentence_topic_judgeid.csv'\n",
    "judge_decision_path = data_output_path+ 'judge_decision.csv'\n",
    "circuit_output_path = data_output_path+ 'circuit/' \n",
    "blmberg_lexis_circuit_path = data_output_path+ 'blmberg_lexis_circuit.csv'\n",
    "circuit_district_link_path = data_output_path + 'circuit_district_link.csv'"
   ]
  },
  {
   "cell_type": "code",
   "execution_count": 4,
   "metadata": {},
   "outputs": [],
   "source": [
    "import psutil\n",
    "def show_current_memory_usage():\n",
    "    pid = os.getpid()\n",
    "    py = psutil.Process(pid)\n",
    "    mem_use_in_GB = py.memory_info().rss/(2**30)\n",
    "    print(\"currently using\",mem_use_in_GB,\"GB memory!\")"
   ]
  },
  {
   "cell_type": "markdown",
   "metadata": {},
   "source": [
    "## Sentence Data"
   ]
  },
  {
   "cell_type": "code",
   "execution_count": 4,
   "metadata": {},
   "outputs": [],
   "source": [
    "df_sentence=pd.read_csv(sentence_path, index_col=0)"
   ]
  },
  {
   "cell_type": "code",
   "execution_count": 5,
   "metadata": {
    "scrolled": true
   },
   "outputs": [
    {
     "data": {
      "text/html": [
       "<div>\n",
       "<style scoped>\n",
       "    .dataframe tbody tr th:only-of-type {\n",
       "        vertical-align: middle;\n",
       "    }\n",
       "\n",
       "    .dataframe tbody tr th {\n",
       "        vertical-align: top;\n",
       "    }\n",
       "\n",
       "    .dataframe thead th {\n",
       "        text-align: right;\n",
       "    }\n",
       "</style>\n",
       "<table border=\"1\" class=\"dataframe\">\n",
       "  <thead>\n",
       "    <tr style=\"text-align: right;\">\n",
       "      <th></th>\n",
       "      <th>caseid</th>\n",
       "      <th>year</th>\n",
       "      <th>judge_last_name</th>\n",
       "      <th>middle_part</th>\n",
       "      <th>opinion_text</th>\n",
       "    </tr>\n",
       "  </thead>\n",
       "  <tbody>\n",
       "    <tr>\n",
       "      <th>0</th>\n",
       "      <td>XB0PMNQNB5G0</td>\n",
       "      <td>1891</td>\n",
       "      <td>PARDEE</td>\n",
       "      <td>contentMajOp</td>\n",
       "      <td>P ARDEE , J., ( after stating the case .)\\nTh...</td>\n",
       "    </tr>\n",
       "    <tr>\n",
       "      <th>1</th>\n",
       "      <td>XFL757</td>\n",
       "      <td>1891</td>\n",
       "      <td>BROWN</td>\n",
       "      <td>contentMajOp</td>\n",
       "      <td>B ROWN , Circuit Justice, ( orally .)\\nIn thi...</td>\n",
       "    </tr>\n",
       "    <tr>\n",
       "      <th>2</th>\n",
       "      <td>XB0PMRQNB5G0</td>\n",
       "      <td>1891</td>\n",
       "      <td>PARDEE</td>\n",
       "      <td>contentMajOp</td>\n",
       "      <td>P ARDEE , J. The case on this intervention is...</td>\n",
       "    </tr>\n",
       "    <tr>\n",
       "      <th>3</th>\n",
       "      <td>XFL7KI</td>\n",
       "      <td>1891</td>\n",
       "      <td>LOCKE</td>\n",
       "      <td>contentMajOp</td>\n",
       "      <td>L OCKE , District Judge.\\nThis motion coming ...</td>\n",
       "    </tr>\n",
       "    <tr>\n",
       "      <th>4</th>\n",
       "      <td>XB0OI7QNB5G0</td>\n",
       "      <td>1891</td>\n",
       "      <td>NELSON</td>\n",
       "      <td>contentMajOp</td>\n",
       "      <td>N ELSON , J. This was an action brought to re...</td>\n",
       "    </tr>\n",
       "  </tbody>\n",
       "</table>\n",
       "</div>"
      ],
      "text/plain": [
       "         caseid  year judge_last_name   middle_part  \\\n",
       "0  XB0PMNQNB5G0  1891          PARDEE  contentMajOp   \n",
       "1        XFL757  1891           BROWN  contentMajOp   \n",
       "2  XB0PMRQNB5G0  1891          PARDEE  contentMajOp   \n",
       "3        XFL7KI  1891           LOCKE  contentMajOp   \n",
       "4  XB0OI7QNB5G0  1891          NELSON  contentMajOp   \n",
       "\n",
       "                                        opinion_text  \n",
       "0   P ARDEE , J., ( after stating the case .)\\nTh...  \n",
       "1   B ROWN , Circuit Justice, ( orally .)\\nIn thi...  \n",
       "2   P ARDEE , J. The case on this intervention is...  \n",
       "3   L OCKE , District Judge.\\nThis motion coming ...  \n",
       "4   N ELSON , J. This was an action brought to re...  "
      ]
     },
     "execution_count": 5,
     "metadata": {},
     "output_type": "execute_result"
    }
   ],
   "source": [
    "df_sentence.head()"
   ]
  },
  {
   "cell_type": "markdown",
   "metadata": {},
   "source": [
    "## Geniss Data"
   ]
  },
  {
   "cell_type": "code",
   "execution_count": 6,
   "metadata": {},
   "outputs": [],
   "source": [
    "geniss = pk.load(open('/data/Dropbox/Projects/Ash_Chen/metadata/bb2genis.pkl', 'rb') )\n",
    "df_geniss = pd.DataFrame(geniss, index=[0]).transpose()\n",
    "df_geniss.reset_index(level=0, inplace = True)\n",
    "df_geniss.columns = ['caseid', 'geniss']"
   ]
  },
  {
   "cell_type": "code",
   "execution_count": 7,
   "metadata": {
    "scrolled": true
   },
   "outputs": [
    {
     "data": {
      "text/html": [
       "<div>\n",
       "<style scoped>\n",
       "    .dataframe tbody tr th:only-of-type {\n",
       "        vertical-align: middle;\n",
       "    }\n",
       "\n",
       "    .dataframe tbody tr th {\n",
       "        vertical-align: top;\n",
       "    }\n",
       "\n",
       "    .dataframe thead th {\n",
       "        text-align: right;\n",
       "    }\n",
       "</style>\n",
       "<table border=\"1\" class=\"dataframe\">\n",
       "  <thead>\n",
       "    <tr style=\"text-align: right;\">\n",
       "      <th></th>\n",
       "      <th>caseid</th>\n",
       "      <th>geniss</th>\n",
       "    </tr>\n",
       "  </thead>\n",
       "  <tbody>\n",
       "    <tr>\n",
       "      <th>0</th>\n",
       "      <td>X101L14003</td>\n",
       "      <td>4.0</td>\n",
       "    </tr>\n",
       "    <tr>\n",
       "      <th>1</th>\n",
       "      <td>X10284I003</td>\n",
       "      <td>1.0</td>\n",
       "    </tr>\n",
       "    <tr>\n",
       "      <th>2</th>\n",
       "      <td>X102UPO003</td>\n",
       "      <td>4.0</td>\n",
       "    </tr>\n",
       "    <tr>\n",
       "      <th>3</th>\n",
       "      <td>X103660N</td>\n",
       "      <td>9.0</td>\n",
       "    </tr>\n",
       "    <tr>\n",
       "      <th>4</th>\n",
       "      <td>X1036DGN</td>\n",
       "      <td>6.0</td>\n",
       "    </tr>\n",
       "  </tbody>\n",
       "</table>\n",
       "</div>"
      ],
      "text/plain": [
       "       caseid  geniss\n",
       "0  X101L14003     4.0\n",
       "1  X10284I003     1.0\n",
       "2  X102UPO003     4.0\n",
       "3    X103660N     9.0\n",
       "4    X1036DGN     6.0"
      ]
     },
     "execution_count": 7,
     "metadata": {},
     "output_type": "execute_result"
    }
   ],
   "source": [
    "df_geniss.head()"
   ]
  },
  {
   "cell_type": "markdown",
   "metadata": {},
   "source": [
    "## Topic"
   ]
  },
  {
   "cell_type": "code",
   "execution_count": 8,
   "metadata": {},
   "outputs": [],
   "source": [
    "topic = pk.load(open(topic_path, 'rb') )\n",
    "df_topic = pd.DataFrame(topic, index=[0]).transpose()\n",
    "df_topic.reset_index(level=0, inplace = True)\n",
    "df_topic.columns = ['caseid', 'topic']\n"
   ]
  },
  {
   "cell_type": "code",
   "execution_count": 9,
   "metadata": {
    "scrolled": true
   },
   "outputs": [
    {
     "data": {
      "text/html": [
       "<div>\n",
       "<style scoped>\n",
       "    .dataframe tbody tr th:only-of-type {\n",
       "        vertical-align: middle;\n",
       "    }\n",
       "\n",
       "    .dataframe tbody tr th {\n",
       "        vertical-align: top;\n",
       "    }\n",
       "\n",
       "    .dataframe thead th {\n",
       "        text-align: right;\n",
       "    }\n",
       "</style>\n",
       "<table border=\"1\" class=\"dataframe\">\n",
       "  <thead>\n",
       "    <tr style=\"text-align: right;\">\n",
       "      <th></th>\n",
       "      <th>caseid</th>\n",
       "      <th>topic</th>\n",
       "    </tr>\n",
       "  </thead>\n",
       "  <tbody>\n",
       "    <tr>\n",
       "      <th>0</th>\n",
       "      <td>X101L14003</td>\n",
       "      <td>Civil Procedure</td>\n",
       "    </tr>\n",
       "    <tr>\n",
       "      <th>1</th>\n",
       "      <td>X10284I003</td>\n",
       "      <td>Criminal Law</td>\n",
       "    </tr>\n",
       "    <tr>\n",
       "      <th>2</th>\n",
       "      <td>X102UPO003</td>\n",
       "      <td>Appellate Procedure</td>\n",
       "    </tr>\n",
       "    <tr>\n",
       "      <th>3</th>\n",
       "      <td>X103660N</td>\n",
       "      <td>Transportation Law</td>\n",
       "    </tr>\n",
       "    <tr>\n",
       "      <th>4</th>\n",
       "      <td>X1036DGN</td>\n",
       "      <td>Employment Law</td>\n",
       "    </tr>\n",
       "  </tbody>\n",
       "</table>\n",
       "</div>"
      ],
      "text/plain": [
       "       caseid                topic\n",
       "0  X101L14003      Civil Procedure\n",
       "1  X10284I003         Criminal Law\n",
       "2  X102UPO003  Appellate Procedure\n",
       "3    X103660N   Transportation Law\n",
       "4    X1036DGN       Employment Law"
      ]
     },
     "execution_count": 9,
     "metadata": {},
     "output_type": "execute_result"
    }
   ],
   "source": [
    "df_topic.head()"
   ]
  },
  {
   "cell_type": "markdown",
   "metadata": {},
   "source": [
    "## Ruling data"
   ]
  },
  {
   "cell_type": "code",
   "execution_count": 14,
   "metadata": {},
   "outputs": [],
   "source": [
    "df_ruling_key = pd.read_stata(ruling_path,\n",
    "                              columns = ['songername', 'judgeidentificationnumber', \n",
    "                                         'jOrigname', 'caseid'])"
   ]
  },
  {
   "cell_type": "code",
   "execution_count": 97,
   "metadata": {},
   "outputs": [],
   "source": [
    "# df_judge_bio = df_ruling[['songername', 'judgeidentificationnumber', 'jOrigname', 'caseid','party', 'x_dem', 'x_republican','x_protestant',\n",
    "#  'x_evangelical','x_noreligion','x_catholic','x_jewish', 'x_black', 'x_nonwhite', 'x_female',\n",
    "# 'nameofschool1','nameofschool2','nameofschool3','nameofschool4', 'nameofschool5','Circuitjudge']]"
   ]
  },
  {
   "cell_type": "markdown",
   "metadata": {},
   "source": [
    "## Merge: create 'sentence_topic_judge.csv'"
   ]
  },
  {
   "cell_type": "code",
   "execution_count": 31,
   "metadata": {},
   "outputs": [
    {
     "data": {
      "text/html": [
       "<div>\n",
       "<style scoped>\n",
       "    .dataframe tbody tr th:only-of-type {\n",
       "        vertical-align: middle;\n",
       "    }\n",
       "\n",
       "    .dataframe tbody tr th {\n",
       "        vertical-align: top;\n",
       "    }\n",
       "\n",
       "    .dataframe thead th {\n",
       "        text-align: right;\n",
       "    }\n",
       "</style>\n",
       "<table border=\"1\" class=\"dataframe\">\n",
       "  <thead>\n",
       "    <tr style=\"text-align: right;\">\n",
       "      <th></th>\n",
       "      <th>caseid</th>\n",
       "      <th>year</th>\n",
       "      <th>middle_part</th>\n",
       "      <th>opinion_text</th>\n",
       "      <th>songername</th>\n",
       "      <th>judgeidentificationnumber</th>\n",
       "      <th>topic</th>\n",
       "      <th>geniss</th>\n",
       "    </tr>\n",
       "  </thead>\n",
       "  <tbody>\n",
       "    <tr>\n",
       "      <th>0</th>\n",
       "      <td>XB0PMNQNB5G0</td>\n",
       "      <td>1891</td>\n",
       "      <td>contentMajOp</td>\n",
       "      <td>P ARDEE , J., ( after stating the case .)\\nTh...</td>\n",
       "      <td>PARDEE, DON A.</td>\n",
       "      <td>1830.0</td>\n",
       "      <td>Civil Procedure</td>\n",
       "      <td>4.0</td>\n",
       "    </tr>\n",
       "    <tr>\n",
       "      <th>1</th>\n",
       "      <td>XFL757</td>\n",
       "      <td>1891</td>\n",
       "      <td>contentMajOp</td>\n",
       "      <td>B ROWN , Circuit Justice, ( orally .)\\nIn thi...</td>\n",
       "      <td>BROWN, HENRY BILLINGS</td>\n",
       "      <td>284.0</td>\n",
       "      <td>Civil Procedure</td>\n",
       "      <td>4.0</td>\n",
       "    </tr>\n",
       "    <tr>\n",
       "      <th>2</th>\n",
       "      <td>XB0PMRQNB5G0</td>\n",
       "      <td>1891</td>\n",
       "      <td>contentMajOp</td>\n",
       "      <td>P ARDEE , J. The case on this intervention is...</td>\n",
       "      <td>PARDEE, DON A.</td>\n",
       "      <td>1830.0</td>\n",
       "      <td>Contracts</td>\n",
       "      <td>7.0</td>\n",
       "    </tr>\n",
       "    <tr>\n",
       "      <th>3</th>\n",
       "      <td>XFL7KI</td>\n",
       "      <td>1891</td>\n",
       "      <td>contentMajOp</td>\n",
       "      <td>L OCKE , District Judge.\\nThis motion coming ...</td>\n",
       "      <td>LOCKE, JAMES WILLIAM</td>\n",
       "      <td>1410.0</td>\n",
       "      <td>Civil Procedure</td>\n",
       "      <td>4.0</td>\n",
       "    </tr>\n",
       "    <tr>\n",
       "      <th>4</th>\n",
       "      <td>XB0OI7QNB5G0</td>\n",
       "      <td>1891</td>\n",
       "      <td>contentMajOp</td>\n",
       "      <td>N ELSON , J. This was an action brought to re...</td>\n",
       "      <td>NELSON, SUSAN RICHARD</td>\n",
       "      <td>3339.0</td>\n",
       "      <td>NaN</td>\n",
       "      <td>NaN</td>\n",
       "    </tr>\n",
       "  </tbody>\n",
       "</table>\n",
       "</div>"
      ],
      "text/plain": [
       "         caseid  year   middle_part  \\\n",
       "0  XB0PMNQNB5G0  1891  contentMajOp   \n",
       "1        XFL757  1891  contentMajOp   \n",
       "2  XB0PMRQNB5G0  1891  contentMajOp   \n",
       "3        XFL7KI  1891  contentMajOp   \n",
       "4  XB0OI7QNB5G0  1891  contentMajOp   \n",
       "\n",
       "                                        opinion_text             songername  \\\n",
       "0   P ARDEE , J., ( after stating the case .)\\nTh...         PARDEE, DON A.   \n",
       "1   B ROWN , Circuit Justice, ( orally .)\\nIn thi...  BROWN, HENRY BILLINGS   \n",
       "2   P ARDEE , J. The case on this intervention is...         PARDEE, DON A.   \n",
       "3   L OCKE , District Judge.\\nThis motion coming ...   LOCKE, JAMES WILLIAM   \n",
       "4   N ELSON , J. This was an action brought to re...  NELSON, SUSAN RICHARD   \n",
       "\n",
       "   judgeidentificationnumber            topic  geniss  \n",
       "0                     1830.0  Civil Procedure     4.0  \n",
       "1                      284.0  Civil Procedure     4.0  \n",
       "2                     1830.0        Contracts     7.0  \n",
       "3                     1410.0  Civil Procedure     4.0  \n",
       "4                     3339.0              NaN     NaN  "
      ]
     },
     "execution_count": 31,
     "metadata": {},
     "output_type": "execute_result"
    }
   ],
   "source": [
    "#1 Sentence + ruling to get judge id and date of case \n",
    "df_merged = df_sentence.merge(df_ruling_key, left_on=['caseid', 'judge_last_name'], \n",
    "                              right_on=['caseid', 'jOrigname'], \n",
    "                              how = 'inner')\n",
    "df_merged.drop(['judge_last_name', 'jOrigname'], axis = 1, inplace = True)\n",
    "\n",
    "\n",
    "#2 + Topic\n",
    "df_merged = df_merged.merge(df_topic, on = 'caseid', how = 'left')\n",
    "\n",
    "#3 + Geniss\n",
    "df_merged = df_merged.merge(df_geniss, on = 'caseid', how = 'left')\n",
    "\n",
    "#drop where songername is null (no matching in ruling data)\n",
    "df_merged.dropna(axis=0, subset = ['songername'], inplace = True)\n",
    "\n",
    "df_merged.head()"
   ]
  },
  {
   "cell_type": "code",
   "execution_count": 12,
   "metadata": {},
   "outputs": [
    {
     "name": "stdout",
     "output_type": "stream",
     "text": [
      "There are 2099 unique judges in the dataset.\n",
      "There are 266568 unique cases in the dataset. \n",
      "There are 89 unique topics in the dataset. (Excluding Nan) \n"
     ]
    }
   ],
   "source": [
    "print('There are {0} unique judges in the dataset.'.format(df_merged.songername.nunique()))\n",
    "print('There are {0} unique cases in the dataset. '.format(df_merged.caseid.nunique()))\n",
    "print('There are {0} unique topics in the dataset. (Excluding Nan) '.format(df_merged.topic.nunique()))\n",
    "\n",
    "# print('Unique cases by year', df_merged.groupby('year').caseid.nunique())\n",
    "# print('Unique writings by judge', '\\n', df_merged.groupby('songername').caseid.count())"
   ]
  },
  {
   "cell_type": "code",
   "execution_count": 52,
   "metadata": {},
   "outputs": [],
   "source": [
    "# df_merged.to_csv(sentence_topic_judge_path, index = False)"
   ]
  },
  {
   "cell_type": "markdown",
   "metadata": {},
   "source": [
    "## Judge Level Decision: create 'judge_decision.csv'"
   ]
  },
  {
   "cell_type": "code",
   "execution_count": 4,
   "metadata": {},
   "outputs": [
    {
     "data": {
      "text/plain": [
       "(1163694, 15)"
      ]
     },
     "execution_count": 4,
     "metadata": {},
     "output_type": "execute_result"
    }
   ],
   "source": [
    "df_meta = pd.read_stata(meta_path)\n",
    "df_meta.shape"
   ]
  },
  {
   "cell_type": "code",
   "execution_count": 5,
   "metadata": {},
   "outputs": [
    {
     "data": {
      "text/html": [
       "<div>\n",
       "<style scoped>\n",
       "    .dataframe tbody tr th:only-of-type {\n",
       "        vertical-align: middle;\n",
       "    }\n",
       "\n",
       "    .dataframe tbody tr th {\n",
       "        vertical-align: top;\n",
       "    }\n",
       "\n",
       "    .dataframe thead th {\n",
       "        text-align: right;\n",
       "    }\n",
       "</style>\n",
       "<table border=\"1\" class=\"dataframe\">\n",
       "  <thead>\n",
       "    <tr style=\"text-align: right;\">\n",
       "      <th></th>\n",
       "      <th>caseid</th>\n",
       "      <th>Circuit</th>\n",
       "      <th>j</th>\n",
       "      <th>date</th>\n",
       "      <th>songername</th>\n",
       "      <th>Affirmed</th>\n",
       "      <th>AffirmedInPart</th>\n",
       "      <th>Reversed</th>\n",
       "      <th>ReversedInPart</th>\n",
       "      <th>Vacated</th>\n",
       "      <th>VacatedInPart</th>\n",
       "      <th>Remanded</th>\n",
       "      <th>Dissenting1</th>\n",
       "      <th>Author</th>\n",
       "      <th>Writer</th>\n",
       "    </tr>\n",
       "  </thead>\n",
       "  <tbody>\n",
       "    <tr>\n",
       "      <th>0</th>\n",
       "      <td>X101L14003</td>\n",
       "      <td>4</td>\n",
       "      <td>2</td>\n",
       "      <td>2004-03-24</td>\n",
       "      <td>DUNCAN, ALLYSON KAY</td>\n",
       "      <td>0.0</td>\n",
       "      <td>0.0</td>\n",
       "      <td>0.0</td>\n",
       "      <td>0.0</td>\n",
       "      <td>0.0</td>\n",
       "      <td>0.0</td>\n",
       "      <td>0.0</td>\n",
       "      <td>0.0</td>\n",
       "      <td>MOTZ</td>\n",
       "      <td>1.0</td>\n",
       "    </tr>\n",
       "    <tr>\n",
       "      <th>1</th>\n",
       "      <td>X101L14003</td>\n",
       "      <td>4</td>\n",
       "      <td>3</td>\n",
       "      <td>2004-03-24</td>\n",
       "      <td>KING, ROBERT BRUCE</td>\n",
       "      <td>0.0</td>\n",
       "      <td>0.0</td>\n",
       "      <td>0.0</td>\n",
       "      <td>0.0</td>\n",
       "      <td>0.0</td>\n",
       "      <td>0.0</td>\n",
       "      <td>0.0</td>\n",
       "      <td>0.0</td>\n",
       "      <td>MOTZ</td>\n",
       "      <td>1.0</td>\n",
       "    </tr>\n",
       "    <tr>\n",
       "      <th>2</th>\n",
       "      <td>X101L14003</td>\n",
       "      <td>4</td>\n",
       "      <td>1</td>\n",
       "      <td>2004-03-24</td>\n",
       "      <td>MOTZ, DIANA GRIBBON</td>\n",
       "      <td>0.0</td>\n",
       "      <td>0.0</td>\n",
       "      <td>0.0</td>\n",
       "      <td>0.0</td>\n",
       "      <td>0.0</td>\n",
       "      <td>0.0</td>\n",
       "      <td>0.0</td>\n",
       "      <td>0.0</td>\n",
       "      <td>MOTZ</td>\n",
       "      <td>1.0</td>\n",
       "    </tr>\n",
       "    <tr>\n",
       "      <th>3</th>\n",
       "      <td>X10284I003</td>\n",
       "      <td>4</td>\n",
       "      <td>3</td>\n",
       "      <td>2004-03-31</td>\n",
       "      <td>LUTTIG, J. MICHAEL</td>\n",
       "      <td>0.0</td>\n",
       "      <td>1.0</td>\n",
       "      <td>0.0</td>\n",
       "      <td>0.0</td>\n",
       "      <td>0.0</td>\n",
       "      <td>1.0</td>\n",
       "      <td>1.0</td>\n",
       "      <td>0.0</td>\n",
       "      <td>WILKINSON</td>\n",
       "      <td>1.0</td>\n",
       "    </tr>\n",
       "    <tr>\n",
       "      <th>4</th>\n",
       "      <td>X10284I003</td>\n",
       "      <td>4</td>\n",
       "      <td>1</td>\n",
       "      <td>2004-03-31</td>\n",
       "      <td>WILKINSON, J. HARVIE, III</td>\n",
       "      <td>0.0</td>\n",
       "      <td>1.0</td>\n",
       "      <td>0.0</td>\n",
       "      <td>0.0</td>\n",
       "      <td>0.0</td>\n",
       "      <td>1.0</td>\n",
       "      <td>1.0</td>\n",
       "      <td>0.0</td>\n",
       "      <td>WILKINSON</td>\n",
       "      <td>1.0</td>\n",
       "    </tr>\n",
       "  </tbody>\n",
       "</table>\n",
       "</div>"
      ],
      "text/plain": [
       "       caseid  Circuit  j       date                 songername  Affirmed  \\\n",
       "0  X101L14003        4  2 2004-03-24        DUNCAN, ALLYSON KAY       0.0   \n",
       "1  X101L14003        4  3 2004-03-24         KING, ROBERT BRUCE       0.0   \n",
       "2  X101L14003        4  1 2004-03-24        MOTZ, DIANA GRIBBON       0.0   \n",
       "3  X10284I003        4  3 2004-03-31         LUTTIG, J. MICHAEL       0.0   \n",
       "4  X10284I003        4  1 2004-03-31  WILKINSON, J. HARVIE, III       0.0   \n",
       "\n",
       "   AffirmedInPart  Reversed  ReversedInPart  Vacated  VacatedInPart  Remanded  \\\n",
       "0             0.0       0.0             0.0      0.0            0.0       0.0   \n",
       "1             0.0       0.0             0.0      0.0            0.0       0.0   \n",
       "2             0.0       0.0             0.0      0.0            0.0       0.0   \n",
       "3             1.0       0.0             0.0      0.0            1.0       1.0   \n",
       "4             1.0       0.0             0.0      0.0            1.0       1.0   \n",
       "\n",
       "   Dissenting1     Author  Writer  \n",
       "0          0.0       MOTZ     1.0  \n",
       "1          0.0       MOTZ     1.0  \n",
       "2          0.0       MOTZ     1.0  \n",
       "3          0.0  WILKINSON     1.0  \n",
       "4          0.0  WILKINSON     1.0  "
      ]
     },
     "execution_count": 5,
     "metadata": {},
     "output_type": "execute_result"
    }
   ],
   "source": [
    "df_meta.head()"
   ]
  },
  {
   "cell_type": "code",
   "execution_count": 7,
   "metadata": {},
   "outputs": [],
   "source": [
    "df_ruling_affirm = pd.read_stata(ruling_path, columns = ['caseid', 'affirmdummy'])\n",
    "df_ruling_affirm.drop_duplicates(inplace = True)"
   ]
  },
  {
   "cell_type": "code",
   "execution_count": 8,
   "metadata": {},
   "outputs": [
    {
     "data": {
      "text/plain": [
       "affirmdummy\n",
       "-1.0    0.000018\n",
       " 0.0    0.439386\n",
       " 1.0    0.560596\n",
       "Name: caseid, dtype: float64"
      ]
     },
     "execution_count": 8,
     "metadata": {},
     "output_type": "execute_result"
    }
   ],
   "source": [
    "df_ruling_affirm.affirmdummy.fillna(-1, inplace = True)\n",
    "df_ruling_affirm.groupby('affirmdummy').caseid.nunique()/df_ruling_affirm.shape[0]"
   ]
  },
  {
   "cell_type": "code",
   "execution_count": 9,
   "metadata": {},
   "outputs": [],
   "source": [
    "df_merged = pd.read_csv(sentence_merge_path)"
   ]
  },
  {
   "cell_type": "code",
   "execution_count": 10,
   "metadata": {},
   "outputs": [
    {
     "data": {
      "text/plain": [
       "(799704, 15)"
      ]
     },
     "execution_count": 10,
     "metadata": {},
     "output_type": "execute_result"
    }
   ],
   "source": [
    "df_meta = df_meta[df_meta['caseid'].isin(df_merged.caseid)]\n",
    "df_meta.shape"
   ]
  },
  {
   "cell_type": "code",
   "execution_count": 11,
   "metadata": {},
   "outputs": [
    {
     "data": {
      "text/plain": [
       "(799704, 16)"
      ]
     },
     "execution_count": 11,
     "metadata": {},
     "output_type": "execute_result"
    }
   ],
   "source": [
    "df_meta = df_meta.merge(df_ruling_affirm, on='caseid', how= 'left')\n",
    "df_meta.shape"
   ]
  },
  {
   "cell_type": "code",
   "execution_count": 14,
   "metadata": {},
   "outputs": [
    {
     "data": {
      "text/plain": [
       "affirmdummy\n",
       "0.0    0.452597\n",
       "1.0    0.547403\n",
       "Name: caseid, dtype: float64"
      ]
     },
     "execution_count": 14,
     "metadata": {},
     "output_type": "execute_result"
    }
   ],
   "source": [
    "df_meta.groupby(['affirmdummy']).caseid.nunique()/df_meta.caseid.nunique()"
   ]
  },
  {
   "cell_type": "code",
   "execution_count": 15,
   "metadata": {
    "scrolled": true
   },
   "outputs": [],
   "source": [
    "df_meta['dissent'] = df_meta.apply(lambda x: 1 if x['j']==x['Dissenting1'] else 0, axis = 1)"
   ]
  },
  {
   "cell_type": "code",
   "execution_count": 28,
   "metadata": {},
   "outputs": [],
   "source": [
    "def decision(x):\n",
    "    if x['affirmdummy'] == 1: #affirm\n",
    "        if x['dissent'] == 0:\n",
    "            return 1 #affirm\n",
    "        elif x['dissent'] == 1:\n",
    "            return 0 #reverse\n",
    "    elif x['affirmdummy'] == 0: #reverse\n",
    "        if x['dissent'] == 0:\n",
    "            return 0 #reverse\n",
    "        elif x['dissent'] == 1:\n",
    "            return 1\n",
    "\n",
    "df_meta['judge_decision'] = df_meta.apply(decision, axis = 1)"
   ]
  },
  {
   "cell_type": "code",
   "execution_count": 31,
   "metadata": {},
   "outputs": [],
   "source": [
    "df_meta = df_meta[['caseid','Circuit','date','songername','affirmdummy','judge_decision']]"
   ]
  },
  {
   "cell_type": "code",
   "execution_count": 34,
   "metadata": {},
   "outputs": [
    {
     "data": {
      "text/plain": [
       "judge_decision\n",
       "0    0.447746\n",
       "1    0.552254\n",
       "Name: caseid, dtype: float64"
      ]
     },
     "execution_count": 34,
     "metadata": {},
     "output_type": "execute_result"
    }
   ],
   "source": [
    "df_meta.groupby('judge_decision').caseid.count()/df_meta.shape[0]"
   ]
  },
  {
   "cell_type": "code",
   "execution_count": 9,
   "metadata": {},
   "outputs": [
    {
     "data": {
      "text/html": [
       "<div>\n",
       "<style scoped>\n",
       "    .dataframe tbody tr th:only-of-type {\n",
       "        vertical-align: middle;\n",
       "    }\n",
       "\n",
       "    .dataframe tbody tr th {\n",
       "        vertical-align: top;\n",
       "    }\n",
       "\n",
       "    .dataframe thead th {\n",
       "        text-align: right;\n",
       "    }\n",
       "</style>\n",
       "<table border=\"1\" class=\"dataframe\">\n",
       "  <thead>\n",
       "    <tr style=\"text-align: right;\">\n",
       "      <th></th>\n",
       "      <th>caseid</th>\n",
       "      <th>Circuit</th>\n",
       "      <th>date</th>\n",
       "      <th>songername</th>\n",
       "      <th>affirmdummy</th>\n",
       "      <th>judge_decision</th>\n",
       "    </tr>\n",
       "  </thead>\n",
       "  <tbody>\n",
       "    <tr>\n",
       "      <th>0</th>\n",
       "      <td>X10284I003</td>\n",
       "      <td>4</td>\n",
       "      <td>2004-03-31</td>\n",
       "      <td>LUTTIG, J. MICHAEL</td>\n",
       "      <td>0.0</td>\n",
       "      <td>0</td>\n",
       "    </tr>\n",
       "    <tr>\n",
       "      <th>1</th>\n",
       "      <td>X10284I003</td>\n",
       "      <td>4</td>\n",
       "      <td>2004-03-31</td>\n",
       "      <td>WILKINSON, J. HARVIE, III</td>\n",
       "      <td>0.0</td>\n",
       "      <td>0</td>\n",
       "    </tr>\n",
       "    <tr>\n",
       "      <th>2</th>\n",
       "      <td>X10284I003</td>\n",
       "      <td>4</td>\n",
       "      <td>2004-03-31</td>\n",
       "      <td>TRAXLER, WILLIAM BYRD, JR.</td>\n",
       "      <td>0.0</td>\n",
       "      <td>0</td>\n",
       "    </tr>\n",
       "    <tr>\n",
       "      <th>3</th>\n",
       "      <td>X102UPO003</td>\n",
       "      <td>3</td>\n",
       "      <td>2004-04-05</td>\n",
       "      <td>RENDELL, MARJORIE O.</td>\n",
       "      <td>0.0</td>\n",
       "      <td>0</td>\n",
       "    </tr>\n",
       "    <tr>\n",
       "      <th>4</th>\n",
       "      <td>X102UPO003</td>\n",
       "      <td>3</td>\n",
       "      <td>2004-04-05</td>\n",
       "      <td>SLOVITER, DOLORES K.</td>\n",
       "      <td>0.0</td>\n",
       "      <td>0</td>\n",
       "    </tr>\n",
       "  </tbody>\n",
       "</table>\n",
       "</div>"
      ],
      "text/plain": [
       "       caseid  Circuit        date                  songername  affirmdummy  \\\n",
       "0  X10284I003        4  2004-03-31          LUTTIG, J. MICHAEL          0.0   \n",
       "1  X10284I003        4  2004-03-31   WILKINSON, J. HARVIE, III          0.0   \n",
       "2  X10284I003        4  2004-03-31  TRAXLER, WILLIAM BYRD, JR.          0.0   \n",
       "3  X102UPO003        3  2004-04-05        RENDELL, MARJORIE O.          0.0   \n",
       "4  X102UPO003        3  2004-04-05        SLOVITER, DOLORES K.          0.0   \n",
       "\n",
       "   judge_decision  \n",
       "0               0  \n",
       "1               0  \n",
       "2               0  \n",
       "3               0  \n",
       "4               0  "
      ]
     },
     "execution_count": 9,
     "metadata": {},
     "output_type": "execute_result"
    }
   ],
   "source": [
    "df_meta.head()"
   ]
  },
  {
   "cell_type": "code",
   "execution_count": null,
   "metadata": {},
   "outputs": [],
   "source": [
    "# df_meta.to_csv(judge_decision_path, index = False)"
   ]
  },
  {
   "cell_type": "markdown",
   "metadata": {},
   "source": [
    "## district id extraction\n",
    "#### Please refer to district_id.ipynb for the script to create '/data/Dropbox/judge_embedding_data_sp18/district_opinion_list.pk'"
   ]
  },
  {
   "cell_type": "markdown",
   "metadata": {},
   "source": [
    "## circuit and district ID link extraction\n",
    "#### Please refer to district_id.ipynb for the script to create '/data/Dropbox/judge_embedding_data_sp18/circuit_district_XXXX.pk'"
   ]
  },
  {
   "cell_type": "markdown",
   "metadata": {},
   "source": [
    "## bloomberg_lexis link"
   ]
  },
  {
   "cell_type": "code",
   "execution_count": 5,
   "metadata": {},
   "outputs": [],
   "source": [
    "blmberg_lexis_df = pd.read_stata(bloomberg_lexis_path)"
   ]
  },
  {
   "cell_type": "code",
   "execution_count": 6,
   "metadata": {
    "scrolled": true
   },
   "outputs": [
    {
     "data": {
      "text/html": [
       "<div>\n",
       "<style scoped>\n",
       "    .dataframe tbody tr th:only-of-type {\n",
       "        vertical-align: middle;\n",
       "    }\n",
       "\n",
       "    .dataframe tbody tr th {\n",
       "        vertical-align: top;\n",
       "    }\n",
       "\n",
       "    .dataframe thead th {\n",
       "        text-align: right;\n",
       "    }\n",
       "</style>\n",
       "<table border=\"1\" class=\"dataframe\">\n",
       "  <thead>\n",
       "    <tr style=\"text-align: right;\">\n",
       "      <th></th>\n",
       "      <th>caseid</th>\n",
       "      <th>citation</th>\n",
       "    </tr>\n",
       "  </thead>\n",
       "  <tbody>\n",
       "    <tr>\n",
       "      <th>0</th>\n",
       "      <td>XFLM55</td>\n",
       "      <td>112 F.1d 517</td>\n",
       "    </tr>\n",
       "    <tr>\n",
       "      <th>1</th>\n",
       "      <td>XFKIHI</td>\n",
       "      <td>92 F.1d 525</td>\n",
       "    </tr>\n",
       "    <tr>\n",
       "      <th>2</th>\n",
       "      <td>XFJ66N</td>\n",
       "      <td>100 F.1d 34</td>\n",
       "    </tr>\n",
       "    <tr>\n",
       "      <th>3</th>\n",
       "      <td>XFKKU1</td>\n",
       "      <td>109 F.1d 334</td>\n",
       "    </tr>\n",
       "    <tr>\n",
       "      <th>4</th>\n",
       "      <td>XFKHRR</td>\n",
       "      <td>137 F.1d 8</td>\n",
       "    </tr>\n",
       "  </tbody>\n",
       "</table>\n",
       "</div>"
      ],
      "text/plain": [
       "   caseid      citation\n",
       "0  XFLM55  112 F.1d 517\n",
       "1  XFKIHI   92 F.1d 525\n",
       "2  XFJ66N   100 F.1d 34\n",
       "3  XFKKU1  109 F.1d 334\n",
       "4  XFKHRR    137 F.1d 8"
      ]
     },
     "execution_count": 6,
     "metadata": {},
     "output_type": "execute_result"
    }
   ],
   "source": [
    "blmberg_lexis_df.head()"
   ]
  },
  {
   "cell_type": "code",
   "execution_count": 7,
   "metadata": {},
   "outputs": [],
   "source": [
    "all_blmberg_caseid = pd.read_csv(judge_decision_path, usecols = ['caseid', 'Circuit'])"
   ]
  },
  {
   "cell_type": "code",
   "execution_count": 8,
   "metadata": {},
   "outputs": [],
   "source": [
    "blmberg_lexis_circuit = blmberg_lexis_df.merge(all_blmberg_caseid, on = 'caseid', how = 'right')\n",
    "blmberg_lexis_circuit.drop_duplicates(inplace = True)\n",
    "blmberg_lexis_circuit.dropna(axis=0, how='any', inplace = True)\n",
    "# blmberg_lexis_circuit.to_csv(blmberg_lexis_circuit_path, index = False)"
   ]
  },
  {
   "cell_type": "code",
   "execution_count": 9,
   "metadata": {},
   "outputs": [],
   "source": [
    "blmberg_lexis_circuit = pd.read_csv(data_output_path+'blmberg_lexis_circuit.csv')\n",
    "col_names =  ['circuit_id', 'district_id', 'caseid', 'Circuit']\n",
    "circuit_district_df = pd.DataFrame(columns = col_names)\n",
    "\n",
    "circuit_district_file_list = ['6385', '6386', '6387', '6388', '6389', '6390', \n",
    "                             '6391', '6392', '6393', '6394', '6395', '6396', '6397']\n",
    "for i in circuit_district_file_list:\n",
    "    try:\n",
    "        circuit_district = pk.load(open( data_output_path + \"circuit_district_{0}.pk\".format(i), \"rb\" ) )\n",
    "    except:\n",
    "        pass\n",
    "    else:\n",
    "        circuit_district = circuit_district[pd.notnull(circuit_district['circuit_id'])]\n",
    "        circuit_district_sub = circuit_district[['circuit_id', 'district_id']]\n",
    "        circuit_district_sub = circuit_district_sub.drop_duplicates()\n",
    "        circuit_district_new = circuit_district_sub.merge(blmberg_lexis_circuit, \n",
    "                                                           left_on=['circuit_id'], right_on=['citation'], \n",
    "                                                           how = 'right')\n",
    "        circuit_district_new = circuit_district_new[pd.notnull(circuit_district_new['circuit_id'])]\n",
    "        circuit_district_new = circuit_district_new[['circuit_id', 'district_id', 'caseid', 'Circuit']]\n",
    "        circuit_district_df = pd.concat([circuit_district_df, circuit_district_new])\n",
    "\n"
   ]
  },
  {
   "cell_type": "code",
   "execution_count": 10,
   "metadata": {},
   "outputs": [],
   "source": [
    "circuit_district_df.to_csv(circuit_district_link_path, index = False)"
   ]
  },
  {
   "cell_type": "code",
   "execution_count": 11,
   "metadata": {},
   "outputs": [
    {
     "data": {
      "text/html": [
       "<div>\n",
       "<style scoped>\n",
       "    .dataframe tbody tr th:only-of-type {\n",
       "        vertical-align: middle;\n",
       "    }\n",
       "\n",
       "    .dataframe tbody tr th {\n",
       "        vertical-align: top;\n",
       "    }\n",
       "\n",
       "    .dataframe thead th {\n",
       "        text-align: right;\n",
       "    }\n",
       "</style>\n",
       "<table border=\"1\" class=\"dataframe\">\n",
       "  <thead>\n",
       "    <tr style=\"text-align: right;\">\n",
       "      <th></th>\n",
       "      <th>circuit_id</th>\n",
       "      <th>district_id</th>\n",
       "      <th>caseid</th>\n",
       "      <th>Circuit</th>\n",
       "    </tr>\n",
       "  </thead>\n",
       "  <tbody>\n",
       "    <tr>\n",
       "      <th>0</th>\n",
       "      <td>166 F.3d 6</td>\n",
       "      <td>NaN</td>\n",
       "      <td>X37VS7</td>\n",
       "      <td>1</td>\n",
       "    </tr>\n",
       "    <tr>\n",
       "      <th>1</th>\n",
       "      <td>174 F.3d 36</td>\n",
       "      <td>NaN</td>\n",
       "      <td>X36A8T</td>\n",
       "      <td>1</td>\n",
       "    </tr>\n",
       "    <tr>\n",
       "      <th>2</th>\n",
       "      <td>175 F.3d 37</td>\n",
       "      <td>NaN</td>\n",
       "      <td>X36I8R</td>\n",
       "      <td>1</td>\n",
       "    </tr>\n",
       "    <tr>\n",
       "      <th>3</th>\n",
       "      <td>178 F.3d 572</td>\n",
       "      <td>NaN</td>\n",
       "      <td>XACCU3</td>\n",
       "      <td>1</td>\n",
       "    </tr>\n",
       "    <tr>\n",
       "      <th>4</th>\n",
       "      <td>180 F.3d 349</td>\n",
       "      <td>NaN</td>\n",
       "      <td>X4VQR3</td>\n",
       "      <td>1</td>\n",
       "    </tr>\n",
       "  </tbody>\n",
       "</table>\n",
       "</div>"
      ],
      "text/plain": [
       "     circuit_id district_id  caseid Circuit\n",
       "0    166 F.3d 6         NaN  X37VS7       1\n",
       "1   174 F.3d 36         NaN  X36A8T       1\n",
       "2   175 F.3d 37         NaN  X36I8R       1\n",
       "3  178 F.3d 572         NaN  XACCU3       1\n",
       "4  180 F.3d 349         NaN  X4VQR3       1"
      ]
     },
     "execution_count": 11,
     "metadata": {},
     "output_type": "execute_result"
    }
   ],
   "source": [
    "circuit_district_df.head()"
   ]
  },
  {
   "cell_type": "code",
   "execution_count": 12,
   "metadata": {},
   "outputs": [
    {
     "data": {
      "text/plain": [
       "8386"
      ]
     },
     "execution_count": 12,
     "metadata": {},
     "output_type": "execute_result"
    }
   ],
   "source": [
    "circuit_district_df['district_id'].notnull().sum()"
   ]
  },
  {
   "cell_type": "code",
   "execution_count": 15,
   "metadata": {},
   "outputs": [
    {
     "data": {
      "text/plain": [
       "[0, 1, 2, 3, 4, 5, 6, 7, 8, 9, 10, 11, 12]"
      ]
     },
     "execution_count": 15,
     "metadata": {},
     "output_type": "execute_result"
    }
   ],
   "source": [
    "sorted(circuit_district_df['Circuit'].unique())"
   ]
  }
 ],
 "metadata": {
  "kernelspec": {
   "display_name": "Python 3",
   "language": "python",
   "name": "python3"
  },
  "language_info": {
   "codemirror_mode": {
    "name": "ipython",
    "version": 3
   },
   "file_extension": ".py",
   "mimetype": "text/x-python",
   "name": "python",
   "nbconvert_exporter": "python",
   "pygments_lexer": "ipython3",
   "version": "3.6.4"
  }
 },
 "nbformat": 4,
 "nbformat_minor": 2
}
