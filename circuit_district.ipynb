{
 "cells": [
  {
   "cell_type": "code",
   "execution_count": 7,
   "metadata": {},
   "outputs": [],
   "source": [
    "import pandas as pd\n",
    "import numpy as np\n",
    "import pickle as pk\n",
    "import zipfile\n",
    "import xml.etree.ElementTree as ET\n",
    "import xml_to_json\n",
    "import json\n",
    "import string\n",
    "import os"
   ]
  },
  {
   "cell_type": "code",
   "execution_count": 19,
   "metadata": {},
   "outputs": [],
   "source": [
    "data_output_path = '/data/Dropbox/judge_embedding_data_sp18/'\n",
    "circuit_output_path = data_output_path + 'circuit/'\n",
    "circuit_xml_source_path = '/data/Dropbox/Data/lexis-data/circuits/'\n",
    "bad_circuit_zip_path = data_output_path + 'bad_circuit_zip_list.pk'"
   ]
  },
  {
   "cell_type": "code",
   "execution_count": 3,
   "metadata": {},
   "outputs": [],
   "source": [
    "import psutil\n",
    "def show_current_memory_usage():\n",
    "    pid = os.getpid()\n",
    "    py = psutil.Process(pid)\n",
    "    mem_use_in_GB = py.memory_info().rss/(2**30)\n",
    "    print(\"currently using\",mem_use_in_GB,\"GB memory!\")"
   ]
  },
  {
   "cell_type": "code",
   "execution_count": 9,
   "metadata": {},
   "outputs": [],
   "source": [
    "def extract_circuit_district_id(content_list, zip_file_name):\n",
    "    l = []\n",
    "    for i in range(len(content_list)):\n",
    "#         if i % 50 == 0:\n",
    "#             print(i, show_current_memory_usage())\n",
    "        file = zf.extract(content_list[i])\n",
    "        filename = os.path.basename(content_list[i])\n",
    "        try:\n",
    "            xml_to_json.xml_to_json(file, circuit_output_path, filename)\n",
    "        except:\n",
    "            pass\n",
    "        else:\n",
    "            try:\n",
    "                json_path = circuit_output_path + filename + '.json'\n",
    "                data_file = open(json_path, encoding='utf-8').read()\n",
    "                data = json.loads(data_file)\n",
    "\n",
    "                for i in data.keys():\n",
    "                    if 'courtCaseDoc' in data[i].keys(): \n",
    "                        d = {}\n",
    "                        d['source_json'] = filename\n",
    "                        d['source_key'] = i\n",
    "                        try:\n",
    "                            circuit_id = data[i]['courtCaseDoc']['courtCaseDocHead']['caseInfo']['citations']['citeForThisResource'][0]['$t'] \n",
    "                        except:\n",
    "                            try:\n",
    "                                circuit_id = data[i]['courtCaseDoc']['metadata']['pagination']['paginationScheme'][0]['@pageScheme']\n",
    "                            except:\n",
    "                                try:\n",
    "                                    circuit_id = data[i]['courtCaseDoc']['courtCaseDocBody']['caseOpinions']['opinion']['bodyText']['p'][0]['citation'][0]['content']['span'][0]['$t']\n",
    "                                except:\n",
    "                                    circuit_id = None\n",
    "                        finally:\n",
    "                            d['circuit_id'] = circuit_id\n",
    "\n",
    "                        try:\n",
    "                            district_id = data[i]['courtCaseDoc']['courtCaseDocHead']['caseHistory']['priorHistory']['appealHistory']['historyCite']['citation']['content']['span'][0]['$t']\n",
    "                        except:\n",
    "                            district_id = None\n",
    "                        else:\n",
    "                            d['district_id'] = district_id\n",
    "\n",
    "                        l.append(d)\n",
    "            except:\n",
    "                pass\n",
    "\n",
    "    circuit_district = pd.DataFrame.from_dict(l)\n",
    "    with open(data_output_path + 'circuit_district_{0}.pk'.format(zip_file_name),\"wb\") as f:  \n",
    "            pk.dump(circuit_district, f)"
   ]
  },
  {
   "cell_type": "code",
   "execution_count": null,
   "metadata": {},
   "outputs": [
    {
     "name": "stdout",
     "output_type": "stream",
     "text": [
      "6387\n"
     ]
    }
   ],
   "source": [
    "badzip = []\n",
    "zip_list = np.array([6385, 6386, 6387, 6391, 6392, 6393, 6394, 6395, 6396, 6397]).astype(str)\n",
    "for i in zip_list:\n",
    "    print(i)\n",
    "    circuit_xml_path = circuit_xml_source_path + '{0}.zip'.format(i)\n",
    "    try:\n",
    "        zf = zipfile.ZipFile(circuit_xml_path, 'r')\n",
    "    except:\n",
    "        badzip.append(i)\n",
    "    else:\n",
    "        content_list = zf.namelist()[1:]\n",
    "        extract_circuit_district_id(content_list, i)\n",
    "\n",
    "with open(bad_circuit_zip_path) as f:  \n",
    "    pk.dump(badzip, f)"
   ]
  },
  {
   "cell_type": "code",
   "execution_count": null,
   "metadata": {},
   "outputs": [],
   "source": []
  }
 ],
 "metadata": {
  "kernelspec": {
   "display_name": "Python 3",
   "language": "python",
   "name": "python3"
  },
  "language_info": {
   "codemirror_mode": {
    "name": "ipython",
    "version": 3
   },
   "file_extension": ".py",
   "mimetype": "text/x-python",
   "name": "python",
   "nbconvert_exporter": "python",
   "pygments_lexer": "ipython3",
   "version": "3.6.4"
  }
 },
 "nbformat": 4,
 "nbformat_minor": 2
}
